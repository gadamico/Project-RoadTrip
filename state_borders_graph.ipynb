{
 "cells": [
  {
   "cell_type": "markdown",
   "metadata": {},
   "source": [
    "# Graphing the US State Borders\n",
    "\n",
    "We can think of the 50 states as composing a network, or a *graph* in the mathematical sense of a set of nodes and edges. The nodes will represent the states themselves, and the edges will represent states' borders.\n",
    "\n",
    "We can then use the Python library `networkx` to explore some features of the \"American network\"."
   ]
  },
  {
   "cell_type": "code",
   "execution_count": null,
   "metadata": {},
   "outputs": [],
   "source": [
    "import pandas as pd\n",
    "import networkx as nx\n",
    "import plotly.express as px\n",
    "\n",
    "\n",
    "%matplotlib inline"
   ]
  },
  {
   "cell_type": "markdown",
   "metadata": {},
   "source": [
    "## Defining the Network\n",
    "\n",
    "We'll start by defining the nodes in terms of the borders of the states they represent. The `networkx` library can build a network from a dictionary, where each key is the name of a node and the corresponding value is a dictionary whose keys are the linked nodes and whose values specify the distance between or \"weight\" of the links. For now we'll use a uniform weight of 0.01. In future work we'll try to include a more realistic representation of state distances."
   ]
  },
  {
   "cell_type": "code",
   "execution_count": null,
   "metadata": {},
   "outputs": [],
   "source": [
    "# We'll make the choice not to count borders that exist only on water\n",
    "# (e.g. Minnesota-Michigan) and not to count states that touch only at\n",
    "# a point as bordering one another (e.g. Arizona-Colorado).\n",
    "\n",
    "state_borders = {'AL': {'FL': {'weight': 0.01}, 'GA': {'weight': 0.01},\n",
    "                        'MS': {'weight': 0.01}, 'TN': {'weight': 0.01}},\n",
    "                'AK': {},\n",
    "                'AZ': {'CA': {'weight': 0.01}, 'NV': {'weight': 0.01},\n",
    "                       'NM': {'weight': 0.01}, 'UT': {'weight': 0.01}},\n",
    "                'AR': {'LA': {'weight': 0.01}, 'MS': {'weight': 0.01},\n",
    "                       'MO': {'weight': 0.01}, 'OK': {'weight': 0.01},\n",
    "                       'TN': {'weight': 0.01}, 'TX': {'weight': 0.01}},\n",
    "                'CA': {'AZ': {'weight': 0.01}, 'NV': {'weight': 0.01},\n",
    "                       'OR': {'weight': 0.01}},\n",
    "                'CO': {'KS': {'weight': 0.01}, 'NE': {'weight': 0.01},\n",
    "                       'NM': {'weight': 0.01}, 'OK': {'weight': 0.01},\n",
    "                       'UT': {'weight': 0.01}, 'WY': {'weight': 0.01}},\n",
    "                'CT': {'MA': {'weight': 0.1}, 'NY': {'weight': 0.1},\n",
    "                       'RI': {'weight': 0.1}},\n",
    "                'DE': {'MD': {'weight': 0.1}, 'NJ': {'weight': 0.1},\n",
    "                       'PA': {'weight': 0.1}},\n",
    "                'FL': {'AL': {'weight': 0.01}, 'GA': {'weight': 0.01}},\n",
    "                'GA': {'AL': {'weight': 0.01}, 'FL': {'weight': 0.01},\n",
    "                       'NC': {'weight': 0.01}, 'SC': {'weight': 0.01},\n",
    "                       'TN': {'weight': 0.01}},\n",
    "                'HI': {},\n",
    "                'ID': {'MT': {'weight': 0.01}, 'NV': {'weight': 0.01},\n",
    "                       'OR': {'weight': 0.01}, 'UT': {'weight': 0.01},\n",
    "                       'WA': {'weight': 0.01}, 'WY': {'weight': 0.01}},\n",
    "                'IL': {'IN': {'weight': 0.01}, 'IA': {'weight': 0.01},\n",
    "                       'KY': {'weight': 0.01}, 'MO': {'weight': 0.01},\n",
    "                       'WI': {'weight': 0.01}},\n",
    "                'IN': {'IL': {'weight': 0.01}, 'KY': {'weight': 0.01},\n",
    "                       'MI': {'weight': 0.01}, 'OH': {'weight': 0.01}},\n",
    "                'IA': {'IL': {'weight': 0.01}, 'MN': {'weight': 0.01},\n",
    "                       'MO': {'weight': 0.01}, 'NE': {'weight': 0.01},\n",
    "                       'SD': {'weight': 0.01}, 'WI': {'weight': 0.01}},\n",
    "                'KS': {'CO': {'weight': 0.01}, 'MO': {'weight': 0.01},\n",
    "                       'NE': {'weight': 0.01}, 'OK': {'weight': 0.01}},\n",
    "                'KY': {'IL': {'weight': 0.01}, 'IN': {'weight': 0.01},\n",
    "                       'MO': {'weight': 0.01}, 'OH': {'weight': 0.01},\n",
    "                       'TN': {'weight': 0.01}, 'VA': {'weight': 0.01},\n",
    "                       'WV': {'weight': 0.01}},\n",
    "                'LA': {'AR': {'weight': 0.01}, 'MS': {'weight': 0.01},\n",
    "                       'TX': {'weight': 0.01}},\n",
    "                'ME': {'NH': {'weight': 0.1}},\n",
    "                'MD': {'DE': {'weight': 0.1}, 'PA': {'weight': 0.01},\n",
    "                       'VA': {'weight': 0.01}, 'WV': {'weight': 0.01}},\n",
    "                'MA': {'CT': {'weight': 0.1}, 'NH': {'weight': 0.1},\n",
    "                       'NY': {'weight': 0.1}, 'RI': {'weight': 0.1},\n",
    "                       'VT': {'weight': 0.1}},\n",
    "                'MI': {'IN': {'weight': 0.01}, 'OH': {'weight': 0.01},\n",
    "                       'WI': {'weight': 0.01}},\n",
    "                'MN': {'IA': {'weight': 0.01}, 'ND': {'weight': 0.01},\n",
    "                       'SD': {'weight': 0.01}, 'WI': {'weight': 0.01}},\n",
    "                'MS': {'AL': {'weight': 0.01}, 'AR': {'weight': 0.01},\n",
    "                       'LA': {'weight': 0.01}, 'TN': {'weight': 0.01}},\n",
    "                'MO': {'AR': {'weight': 0.01}, 'IL': {'weight': 0.01},\n",
    "                       'IA': {'weight': 0.01}, 'KS': {'weight': 0.01},\n",
    "                       'KY': {'weight': 0.01}, 'NE': {'weight': 0.01},\n",
    "                       'OK': {'weight': 0.01}, 'TN': {'weight': 0.01}},\n",
    "                'MT': {'ID': {'weight': 0.01}, 'ND': {'weight': 0.01},\n",
    "                       'SD': {'weight': 0.01}, 'WY': {'weight': 0.01}},\n",
    "                'NE': {'CO': {'weight': 0.01}, 'IA': {'weight': 0.01},\n",
    "                       'KS': {'weight': 0.01}, 'MO': {'weight': 0.01},\n",
    "                       'SD': {'weight': 0.01}, 'WY': {'weight': 0.01}},\n",
    "                'NV': {'AZ': {'weight': 0.01}, 'CA': {'weight': 0.01},\n",
    "                       'ID': {'weight': 0.01}, 'OR': {'weight': 0.01},\n",
    "                       'UT': {'weight': 0.01}},\n",
    "                'NH': {'ME': {'weight': 0.1}, 'MA': {'weight': 0.1},\n",
    "                       'VT': {'weight': 0.1}},\n",
    "                'NJ': {'DE': {'weight': 0.1}, 'NY': {'weight': 0.1},\n",
    "                       'PA': {'weight': 0.1}},\n",
    "                'NM': {'AZ': {'weight': 0.01}, 'CO': {'weight': 0.01},\n",
    "                       'OK': {'weight': 0.01}, 'TX': {'weight': 0.01}},\n",
    "                'NY': {'CT': {'weight': 0.1}, 'MA': {'weight': 0.1},\n",
    "                       'NJ': {'weight': 0.1}, 'PA': {'weight': 0.01},\n",
    "                       'VT': {'weight': 0.1}},\n",
    "                'NC': {'GA': {'weight': 0.01}, 'SC': {'weight': 0.01},\n",
    "                       'TN': {'weight': 0.01}, 'VA': {'weight': 0.01}},\n",
    "                'ND': {'MN': {'weight': 0.01}, 'MT': {'weight': 0.01},\n",
    "                       'SD': {'weight': 0.01}},\n",
    "                'OH': {'IN': {'weight': 0.01}, 'KY': {'weight': 0.01},\n",
    "                       'MI': {'weight': 0.01}, 'PA': {'weight': 0.01},\n",
    "                       'WV': {'weight': 0.01}},\n",
    "                'OK': {'AR': {'weight': 0.01}, 'CO': {'weight': 0.01},\n",
    "                       'KS': {'weight': 0.01}, 'MO': {'weight': 0.01},\n",
    "                       'NM': {'weight': 0.01}, 'TX': {'weight': 0.01}},\n",
    "                'OR': {'CA': {'weight': 0.01}, 'ID': {'weight': 0.01},\n",
    "                       'NV': {'weight': 0.01}, 'WA': {'weight': 0.01}},\n",
    "                'PA': {'DE': {'weight': 0.1}, 'MD': {'weight': 0.01},\n",
    "                       'NJ': {'weight': 0.01}, 'NY': {'weight': 0.01},\n",
    "                       'OH': {'weight': 0.01}, 'WV': {'weight': 0.01}},\n",
    "                'RI': {'CT': {'weight': 0.1}, 'MA': {'weight': 0.1}},\n",
    "                'SC': {'GA': {'weight': 0.01}, 'NC': {'weight': 0.01}},\n",
    "                'SD': {'IA': {'weight': 0.01}, 'MN': {'weight': 0.01},\n",
    "                       'MT': {'weight': 0.01}, 'NE': {'weight': 0.01},\n",
    "                       'ND': {'weight': 0.01}, 'WY': {'weight': 0.01}},\n",
    "                'TN': {'AL': {'weight': 0.01}, 'AR': {'weight': 0.01},\n",
    "                       'GA': {'weight': 0.01}, 'KY': {'weight': 0.01},\n",
    "                       'MS': {'weight': 0.01}, 'MO': {'weight': 0.01},\n",
    "                       'NC': {'weight': 0.01}, 'VA': {'weight': 0.01}},\n",
    "                'TX': {'AR': {'weight': 0.01}, 'LA': {'weight': 0.01},\n",
    "                       'NM': {'weight': 0.01}, 'OK': {'weight': 0.01}},\n",
    "                'UT': {'AZ': {'weight': 0.01}, 'CO': {'weight': 0.01},\n",
    "                       'ID': {'weight': 0.01}, 'NV': {'weight': 0.01},\n",
    "                       'WY': {'weight': 0.01}},\n",
    "                'VT': {'MA': {'weight': 0.1}, 'NH': {'weight': 0.1},\n",
    "                       'NY': {'weight': 0.1}},\n",
    "                'VA': {'KY': {'weight': 0.01}, 'MD': {'weight': 0.01},\n",
    "                       'NC': {'weight': 0.01}, 'TN': {'weight': 0.01},\n",
    "                       'WV': {'weight': 0.01}},\n",
    "                'WA': {'ID': {'weight': 0.01}, 'OR': {'weight': 0.01}},\n",
    "                'WV': {'KY': {'weight': 0.01}, 'MD': {'weight': 0.01},\n",
    "                       'OH': {'weight': 0.01}, 'PA': {'weight': 0.01},\n",
    "                       'VA': {'weight': 0.01}},\n",
    "                'WI': {'IL': {'weight': 0.01}, 'IA': {'weight': 0.01},\n",
    "                       'MI': {'weight': 0.01}, 'MN': {'weight': 0.01}},\n",
    "                'WY': {'CO': {'weight': 0.01}, 'ID': {'weight': 0.01}, \n",
    "                       'MT': {'weight': 0.01}, 'NE': {'weight': 0.01},\n",
    "                       'SD': {'weight': 0.01}, 'UT': {'weight': 0.01}}}"
   ]
  },
  {
   "cell_type": "markdown",
   "metadata": {},
   "source": [
    "Now just use the `from_dict_of_dicts()` function:"
   ]
  },
  {
   "cell_type": "code",
   "execution_count": null,
   "metadata": {},
   "outputs": [],
   "source": [
    "borders = nx.from_dict_of_dicts(state_borders)"
   ]
  },
  {
   "cell_type": "markdown",
   "metadata": {},
   "source": [
    "## Visualizing our Network\n",
    "\n",
    "We can use `networkx` to show us the networks we've built."
   ]
  },
  {
   "cell_type": "code",
   "execution_count": null,
   "metadata": {
    "scrolled": true
   },
   "outputs": [],
   "source": [
    "# Since we haven't specified node positions, this code\n",
    "# will return variable results.\n",
    "\n",
    "nx.draw(borders, with_labels=True)"
   ]
  },
  {
   "cell_type": "markdown",
   "metadata": {},
   "source": [
    "## Reducing to Lower 48 and Redrawing\n",
    "\n",
    "Alaska and Hawaii of course have no borders with other states and so we'll eliminate them. We'll also add a dictionary of positions so that we can place our nodes in a way that actually resembles the map."
   ]
  },
  {
   "cell_type": "code",
   "execution_count": null,
   "metadata": {},
   "outputs": [],
   "source": [
    "list(nx.isolates(borders))"
   ]
  },
  {
   "cell_type": "code",
   "execution_count": null,
   "metadata": {},
   "outputs": [],
   "source": [
    "state_borders48 = {}\n",
    "for state in state_borders:\n",
    "    if state_borders[state] != {}:\n",
    "        state_borders48[state] = state_borders[state]"
   ]
  },
  {
   "cell_type": "code",
   "execution_count": null,
   "metadata": {},
   "outputs": [],
   "source": [
    "borders48 = nx.from_dict_of_dicts(state_borders48)"
   ]
  },
  {
   "cell_type": "code",
   "execution_count": null,
   "metadata": {
    "scrolled": true
   },
   "outputs": [],
   "source": [
    "nx.draw(borders48, with_labels=True,\n",
    "       pos={'AL': (8, 0), 'AZ': (3, 0), 'AR': (6, 1), 'CA': (1, 1),\n",
    "           'CO': (4, 2), 'CT': (12.25, 3.75), 'DE': (11.5, 2.75), 'FL': (9, -1),\n",
    "           'GA': (9, 0), 'ID': (2, 5), 'IL': (7, 3), 'IN': (8, 3),\n",
    "           'IA': (6, 4), 'KS': (5, 2), 'KY': (8, 2), 'LA': (6, 0),\n",
    "           'ME': (14, 5.5), 'MD': (10.5, 3), 'MA': (12.5, 4.5), 'MI': (8, 5),\n",
    "           'MN': (6, 5.5), 'MS': (7, 0), 'MO': (6, 2), 'MT': (3.5, 6),\n",
    "           'NE': (5, 3.5), 'NV': (2, 2), 'NH': (13, 5), 'NJ': (11.5, 3.5),\n",
    "           'NM': (4, 0), 'NY': (11, 4.5), 'NC': (11, 1), 'ND': (5, 6),\n",
    "           'OH': (9, 3), 'OK': (5, 1), 'OR': (1, 4), 'PA': (10, 4),\n",
    "           'RI': (13, 4), 'SC': (10, 0.5), 'SD': (5, 5), 'TN': (8, 1),\n",
    "           'TX': (5, -1), 'UT': (3, 3), 'VT': (12, 5.25), 'VA': (11, 2),\n",
    "           'WA': (1, 6), 'WV': (10, 2.5), 'WI': (7, 4.5), 'WY': (3.5, 4)})"
   ]
  },
  {
   "cell_type": "markdown",
   "metadata": {},
   "source": [
    "## Exploring\n",
    "\n",
    "### Shortest Paths\n",
    "\n",
    "One feature of the state borders that we can explore is how to get from one state to another. A Dijkstra Path tells us the shortest path from one node to another. Since we've used a uniform weight (for now), we can simply measure a path from State A to State B in terms of the number of states between A and B."
   ]
  },
  {
   "cell_type": "code",
   "execution_count": null,
   "metadata": {},
   "outputs": [],
   "source": [
    "list(nx.all_pairs_dijkstra_path(borders))"
   ]
  },
  {
   "cell_type": "markdown",
   "metadata": {},
   "source": [
    "### How Many Borders Per State?\n",
    "\n",
    "This code will tell us how many states we have for each number of borders"
   ]
  },
  {
   "cell_type": "code",
   "execution_count": null,
   "metadata": {},
   "outputs": [],
   "source": [
    "nx.degree_histogram(borders)"
   ]
  },
  {
   "cell_type": "markdown",
   "metadata": {},
   "source": [
    "That is: Two states have zero borders (AK and HI), one state has only one border (ME), etc. There are two states with eight borders each: MO and TN."
   ]
  },
  {
   "cell_type": "markdown",
   "metadata": {},
   "source": [
    "#### Average Neighbor Degree\n",
    "\n",
    "The degree of a node is the number of edges it has, so the average neighbor degree for a state A tells us the average number of states bordered by the states that border A."
   ]
  },
  {
   "cell_type": "code",
   "execution_count": null,
   "metadata": {},
   "outputs": [],
   "source": [
    "sorted(nx.average_neighbor_degree(borders48).items(),\n",
    "       key=lambda x: x[1],\n",
    "       reverse=True)[:10]"
   ]
  },
  {
   "cell_type": "markdown",
   "metadata": {},
   "source": [
    "Kansas borders Colorado, Missouri, Nebraska, and Oklahoma. Three of these states have six neighbors and the fourth has eight!"
   ]
  },
  {
   "cell_type": "markdown",
   "metadata": {},
   "source": [
    "#### Average degree connectivity\n",
    "\n",
    "Group states by how many borders they have. The average degree connectivity tells us, for a given group thus defined, the average number of borders for the states that *border* the states in the group."
   ]
  },
  {
   "cell_type": "code",
   "execution_count": null,
   "metadata": {
    "scrolled": true
   },
   "outputs": [],
   "source": [
    "nx.average_degree_connectivity(borders48)"
   ]
  },
  {
   "cell_type": "markdown",
   "metadata": {},
   "source": [
    "Maine, for example, is the only state with just a single border, so it constitutes its own border group. And the only state that borders it is New Hampshire, which itself has three borders. (It borders Vermont and Massachusetts as well as Maine.) So the averge degree connectivity for the 1-border group (= {Maine}) is 3.\n",
    "\n",
    "Let's think about the 2-border group. This group contains 4 states: Florida, Rhode Island, South Carolina, and Washington. The states that border these four are: Alabama and Georgia (FL), Connecticut and Massachusetts (RI), Georgia (again!) and North Carolina (SC), and Idaho and Oregon (WA). These bordering states have border counts of 4, 5, 3, 5, 5, 4, 6, and 4, and the average of these seven numbers is 36 / 8 = 4.5."
   ]
  },
  {
   "cell_type": "markdown",
   "metadata": {},
   "source": [
    "### Most Central State\n",
    "\n",
    "There are a few ways of calculating the \"middle\" of a graph.\n",
    "\n",
    "#### Betweenness Centrality\n",
    "\n",
    "To calculate the betweenness centrality of a state A: Pick two states different from A and consider all of the shortest paths between them. Calculate, as a percentage, how many of these shortest paths include A. Repeat for all pairs of states different from A and take an average."
   ]
  },
  {
   "cell_type": "code",
   "execution_count": null,
   "metadata": {},
   "outputs": [],
   "source": [
    "# Which state has the highest betweenness centrality?\n",
    "\n",
    "sorted(nx.betweenness_centrality(borders48).items(),\n",
    "       key=lambda x: x[1], reverse=True)[:10]"
   ]
  },
  {
   "cell_type": "markdown",
   "metadata": {},
   "source": [
    "On this metric of centrality, given our uniform weighting, Missouri is the most central state.\n",
    "\n",
    "##### Edge Betweenness\n",
    "This betweenness centrality can also be used on the *edges*. Just as the idea of a state with a high betweenness centrality means that many shortest paths go through it, so the idea of a *border* with a high betweenness centrality means that many shortest paths *include it as a part*.\n",
    "\n",
    "Let's measure this too:"
   ]
  },
  {
   "cell_type": "code",
   "execution_count": null,
   "metadata": {},
   "outputs": [],
   "source": [
    "sorted(nx.betweenness.edge_betweenness_centrality(borders48).items(),\n",
    "       key=lambda x: x[1], reverse=True)[:10]"
   ]
  },
  {
   "cell_type": "markdown",
   "metadata": {},
   "source": [
    "New York is the only \"bridge\" between New England and the rest of the country! And if you're coming from New England and going west, the two other (non-New England) states bordering New York are New Jersey and Pennsylvania. And of those two, Pennsylvania is bound to be more \"on the way\" to your ultimate destination than is New Jersey."
   ]
  },
  {
   "cell_type": "markdown",
   "metadata": {},
   "source": [
    "#### Degree Centrality\n",
    "\n",
    "Degree centrality of a state A is simply the ratio of the number of borders A has to the total number of states less 1, i.e. the ratio of the number of borders a has to the total number of borders it *could* have."
   ]
  },
  {
   "cell_type": "code",
   "execution_count": null,
   "metadata": {},
   "outputs": [],
   "source": [
    "# Which state has the highest degree centrality?\n",
    "\n",
    "sorted(nx.degree_centrality(borders48).items(),\n",
    "      key=lambda x: x[1], reverse=True)[:10]"
   ]
  },
  {
   "cell_type": "markdown",
   "metadata": {},
   "source": [
    "This one we really knew already. Missouri and Tennessee both have eight borders."
   ]
  },
  {
   "cell_type": "markdown",
   "metadata": {},
   "source": [
    "#### Closeness Centrality\n",
    "\n",
    "To calculate the closeness centrality of a state A, calculate the shortest path from A to every other state. Add those all together and then take the reciprocal (so that higher numbers will correspond to states with shorter shortest paths to other states)."
   ]
  },
  {
   "cell_type": "code",
   "execution_count": null,
   "metadata": {},
   "outputs": [],
   "source": [
    "# Which state has the highest closeness centrality?\n",
    "\n",
    "sorted(nx.closeness_centrality(borders48).items(),\n",
    "      key=lambda x: x[1], reverse=True)[:10]"
   ]
  },
  {
   "cell_type": "markdown",
   "metadata": {},
   "source": [
    "Missouri again! I think at this point it's fair to say that we have a winner."
   ]
  },
  {
   "cell_type": "markdown",
   "metadata": {},
   "source": [
    "## New Network\n",
    "\n",
    "### Distances\n",
    "\n",
    "Let's now try to add in weights into our graph so that we're better capturing the distances between states.\n",
    "\n",
    "The distances used below are the shortest driving distances between states' [geographic centers](https://en.wikipedia.org/wiki/List_of_geographic_centers_of_the_United_States), as reported by Google Maps."
   ]
  },
  {
   "cell_type": "code",
   "execution_count": null,
   "metadata": {},
   "outputs": [],
   "source": [
    "dists = {'ALFL': 476, 'ALGA': 225, 'ALMS': 202, 'ALTN': 247,\n",
    "         'AZCA': 669, 'AZNV': 616, 'AZNM': 424, 'AZUT': 449,\n",
    "         'ARLA': 290, 'ARMS': 272, 'ARMO': 341, 'AROK': 336,\n",
    "         'ARTN': 375, 'ARTX': 538, 'CANV': 339, 'CAOR': 658,\n",
    "         'COKS': 356, 'CONE': 393, 'CONM': 369, 'COOK': 568,\n",
    "         'COUT': 525, 'COWY': 419, 'CTMA': 77, 'CTNY': 211,\n",
    "         'CTRI': 78, 'DEMD': 76, 'DENJ': 112, 'DEPA': 214,\n",
    "         'FLGA': 342, 'GANC': 358, 'GASC': 197, 'GATN': 300,\n",
    "         'IDMT': 451, 'IDNV': 513, 'IDOR': 465, 'IDUT': 447,\n",
    "         'IDWA': 563, 'IDWY': 396, 'ILIN': 172, 'ILIA': 356,\n",
    "         'ILKY': 371, 'ILMO': 199, 'ILWI': 404, 'INKY': 208,\n",
    "         'INMI': 355, 'INOH': 190, 'IAMN': 341, 'IAMO': 291,\n",
    "         'IANE': 374, 'IASD': 483, 'IAWI': 328, 'KSMO': 384,\n",
    "         'KSNE': 245, 'KSOK': 270, 'KYMO': 473, 'KYOH': 224,\n",
    "         'KYTN': 195, 'KYVA': 446, 'KYWV': 274, 'LAMS': 229,\n",
    "         'LATX': 491, 'MENH': 204, 'MDPA': 199, 'MDVA': 183,\n",
    "         'MDWV': 306, 'MANH': 130, 'MANY': 227, 'MARI': 64,\n",
    "         'MAVT': 159, 'MIOH': 377, 'MIWI': 280, 'MNND': 345,\n",
    "         'MNSD': 415, 'MNWI': 292, 'MSTN': 324, 'MONE': 517,\n",
    "         'MOOK': 419, 'MOTN': 468, 'MTND': 495, 'MTSD': 582,\n",
    "         'MTWY': 398, 'NESD': 259, 'NEWY': 555, 'NVOR': 497,\n",
    "         'NVUT': 391, 'NHVT': 84, 'NJNY': 285, 'NJPA': 211,\n",
    "         'NMOK': 518, 'NMTX': 527, 'NYPA': 263, 'NYVT': 190,\n",
    "         'NCSC': 167, 'NCTN': 518, 'NCVA': 183, 'NDSD': 240,\n",
    "         'OHPA': 323, 'OHWV': 224, 'OKTX': 354, 'ORWA': 317,\n",
    "         'PAWV': 267, 'SDWY': 553, 'TNVA': 529, 'UTWY': 377,\n",
    "         'VAWV': 223}"
   ]
  },
  {
   "cell_type": "markdown",
   "metadata": {},
   "source": [
    "The above are all of our distances, but we need to duplicate them. Since distances are symmetric (the distance between New York and Pennsylvania is the same as the distance between Pennsylvania and New York), we can use the following trick:"
   ]
  },
  {
   "cell_type": "code",
   "execution_count": null,
   "metadata": {},
   "outputs": [],
   "source": [
    "tot_dists = dists.copy()\n",
    "for key in dists.keys():\n",
    "    tot_dists[key] = dists[key]\n",
    "    tot_dists[key[2:]+key[:2]] = dists[key]"
   ]
  },
  {
   "cell_type": "markdown",
   "metadata": {},
   "source": [
    "Now we'll build the new graph with these new weights."
   ]
  },
  {
   "cell_type": "code",
   "execution_count": null,
   "metadata": {},
   "outputs": [],
   "source": [
    "new_map = state_borders48.copy()"
   ]
  },
  {
   "cell_type": "code",
   "execution_count": null,
   "metadata": {},
   "outputs": [],
   "source": [
    "for state in state_borders48.keys():\n",
    "    new_map[state] = {key[2:]: {'weight': tot_dists[key]}\\\n",
    "                      for key in tot_dists if key[:2] == state}"
   ]
  },
  {
   "cell_type": "markdown",
   "metadata": {},
   "source": [
    "Let's make sure that worked!"
   ]
  },
  {
   "cell_type": "code",
   "execution_count": null,
   "metadata": {},
   "outputs": [],
   "source": [
    "new_map['WY']"
   ]
  },
  {
   "cell_type": "code",
   "execution_count": null,
   "metadata": {},
   "outputs": [],
   "source": [
    "new_borders = nx.from_dict_of_dicts(new_map)"
   ]
  },
  {
   "cell_type": "code",
   "execution_count": null,
   "metadata": {},
   "outputs": [],
   "source": [
    "list(nx.all_pairs_dijkstra_path(new_borders))"
   ]
  },
  {
   "cell_type": "markdown",
   "metadata": {},
   "source": [
    "We won't see any changes in centrality metrics:"
   ]
  },
  {
   "cell_type": "code",
   "execution_count": null,
   "metadata": {},
   "outputs": [],
   "source": [
    "sorted(nx.betweenness_centrality(new_borders).items(),\n",
    "       key=lambda x: x[1], reverse=True)[:10]"
   ]
  },
  {
   "cell_type": "code",
   "execution_count": null,
   "metadata": {},
   "outputs": [],
   "source": [
    "sorted(nx.degree_centrality(new_borders).items(),\n",
    "      key=lambda x: x[1], reverse=True)[:10]"
   ]
  },
  {
   "cell_type": "code",
   "execution_count": null,
   "metadata": {},
   "outputs": [],
   "source": [
    "sorted(nx.closeness_centrality(new_borders).items(),\n",
    "      key=lambda x: x[1], reverse=True)[:10]"
   ]
  },
  {
   "cell_type": "markdown",
   "metadata": {},
   "source": [
    "## Other Metrics of Centrality\n",
    "\n",
    "The library `networkx` has many other measures of centrality. Many of these are related to metrics we've already examined. Let's just take a peek to see if we find nodes other than Missouri or edges other than New York - Pennsylvania."
   ]
  },
  {
   "cell_type": "code",
   "execution_count": null,
   "metadata": {},
   "outputs": [],
   "source": [
    "# Communicability Betweenness\n",
    "\n",
    "sorted(nx.centrality.communicability_betweenness_centrality(new_borders).items(),\n",
    "      key=lambda x: x[1], reverse=True)[:10]"
   ]
  },
  {
   "cell_type": "code",
   "execution_count": null,
   "metadata": {},
   "outputs": [],
   "source": [
    "# Current Flow Betweenness\n",
    "\n",
    "sorted(nx.centrality.current_flow_betweenness_centrality(new_borders).items(),\n",
    "      key=lambda x: x[1], reverse=True)[:10]"
   ]
  },
  {
   "cell_type": "code",
   "execution_count": null,
   "metadata": {},
   "outputs": [],
   "source": [
    "# Current Flow Closeness\n",
    "\n",
    "sorted(nx.centrality.current_flow_closeness_centrality(new_borders).items(),\n",
    "      key=lambda x: x[1], reverse=True)[:10]"
   ]
  },
  {
   "cell_type": "code",
   "execution_count": null,
   "metadata": {},
   "outputs": [],
   "source": [
    "# Edge Current Flow Betweenness\n",
    "\n",
    "sorted(nx.centrality.edge_current_flow_betweenness_centrality(new_borders).items(),\n",
    "      key=lambda x: x[1], reverse=True)[:10]"
   ]
  },
  {
   "cell_type": "code",
   "execution_count": null,
   "metadata": {},
   "outputs": [],
   "source": [
    "# Edge Load\n",
    "\n",
    "sorted(nx.centrality.edge_load_centrality(new_borders).items(),\n",
    "      key=lambda x: x[1], reverse=True)[:10]"
   ]
  },
  {
   "cell_type": "code",
   "execution_count": null,
   "metadata": {
    "scrolled": true
   },
   "outputs": [],
   "source": [
    "# Eigenvector\n",
    "\n",
    "sorted(nx.centrality.eigenvector_centrality(new_borders).items(),\n",
    "      key=lambda x: x[1], reverse=True)[:10]"
   ]
  },
  {
   "cell_type": "code",
   "execution_count": null,
   "metadata": {
    "scrolled": true
   },
   "outputs": [],
   "source": [
    "# Harmonic\n",
    "\n",
    "sorted(nx.centrality.harmonic_centrality(new_borders).items(),\n",
    "      key=lambda x: x[1], reverse=True)[:10]"
   ]
  },
  {
   "cell_type": "code",
   "execution_count": null,
   "metadata": {},
   "outputs": [],
   "source": [
    "# Information\n",
    "\n",
    "sorted(nx.centrality.information_centrality(new_borders).items(),\n",
    "      key=lambda x: x[1], reverse=True)[:10]"
   ]
  },
  {
   "cell_type": "code",
   "execution_count": null,
   "metadata": {
    "scrolled": true
   },
   "outputs": [],
   "source": [
    "# Katz\n",
    "\n",
    "sorted(nx.centrality.katz_centrality(new_borders).items(),\n",
    "       key=lambda x: x[1], reverse=True)[:10]"
   ]
  },
  {
   "cell_type": "code",
   "execution_count": null,
   "metadata": {
    "scrolled": true
   },
   "outputs": [],
   "source": [
    "# Load\n",
    "\n",
    "sorted(nx.centrality.load_centrality(new_borders).items(),\n",
    "       key=lambda x: x[1], reverse=True)[:10]"
   ]
  },
  {
   "cell_type": "code",
   "execution_count": null,
   "metadata": {},
   "outputs": [],
   "source": [
    "# Second-Order\n",
    "\n",
    "sorted(nx.centrality.second_order_centrality(new_borders).items(),\n",
    "       key=lambda x: x[1])[:10]"
   ]
  },
  {
   "cell_type": "code",
   "execution_count": null,
   "metadata": {},
   "outputs": [],
   "source": [
    "# Subgraph\n",
    "\n",
    "sorted(nx.centrality.subgraph_centrality(new_borders).items(),\n",
    "       key=lambda x: x[1], reverse=True)[:10]"
   ]
  },
  {
   "cell_type": "markdown",
   "metadata": {},
   "source": [
    "### Fractional Votes for Kansas and Nebraska\n",
    "\n",
    "There's a notion of centrality that we can't capture with the tools of graph theory applied thus far. One limitation of representing the states as a connected graph is that we lose any sense of an **exterior** or **interior**.\n",
    "\n",
    "If we look at a map of the U.S., we can easily identify states at the edge of the map. From there we could identify states that are \"one state deep\". Etc.\n",
    "\n",
    "If we follow this procedure, we end up, plausibly (again this is not totally free of controversy), with the following:\n",
    "\n",
    "- Edge: {WA, ID, MT, ND, MN, WI, MI, OH, PA, NY, VT, NH, ME, MA, RI, CT, NJ, DE, MD, VA, NC, SC, GA, FL, AL, MS, LA, TX, NM, AZ, CA, OR}\n",
    "\n",
    "- Second Level: {NV, UT, WY, SD, IA, IL, IN, KY, WV, TN, AR, OK, CO}\n",
    "\n",
    "- Third Level: {NE, MO, KS}\n",
    "\n",
    "By this way of thinking about things, Nebraska and Kansas are just as central as Missouri. And if we think of Illinois and Indiana as actually being on the *edge* of the country (in virtue of bordering Lake Michigan), then this would actually send Missouri to the second level, leaving Kansas and Nebraska alone in the third."
   ]
  },
  {
   "cell_type": "markdown",
   "metadata": {},
   "source": [
    "## `borders48` Vs. `new_borders`\n",
    "\n",
    "The addition of the (non-trivial) distances or weights doesn't make much difference to centrality questions. But it will of course make a difference to the lengths of shortest paths."
   ]
  },
  {
   "cell_type": "code",
   "execution_count": null,
   "metadata": {},
   "outputs": [],
   "source": [
    "nx.dijkstra_path(borders48,\n",
    "                source='MO',\n",
    "                target='ME')"
   ]
  },
  {
   "cell_type": "code",
   "execution_count": null,
   "metadata": {},
   "outputs": [],
   "source": [
    "nx.dijkstra_path(new_borders,\n",
    "                source='MO',\n",
    "                target='ME')"
   ]
  },
  {
   "cell_type": "code",
   "execution_count": null,
   "metadata": {},
   "outputs": [],
   "source": [
    "nx.dijkstra_path_length(borders48,\n",
    "                       source='MO',\n",
    "                       target='ME')"
   ]
  },
  {
   "cell_type": "code",
   "execution_count": null,
   "metadata": {},
   "outputs": [],
   "source": [
    "nx.dijkstra_path_length(new_borders,\n",
    "                       source='MO',\n",
    "                       target='ME')"
   ]
  },
  {
   "cell_type": "code",
   "execution_count": null,
   "metadata": {},
   "outputs": [],
   "source": [
    "nx.dijkstra_path(borders48,\n",
    "                source='OH',\n",
    "                target='CA')"
   ]
  },
  {
   "cell_type": "code",
   "execution_count": null,
   "metadata": {},
   "outputs": [],
   "source": [
    "nx.dijkstra_path(new_borders,\n",
    "                source='OH',\n",
    "                target='CA')"
   ]
  },
  {
   "cell_type": "markdown",
   "metadata": {},
   "source": [
    "## Cliques\n",
    "\n",
    "A clique is a maximal subgraph, i.e. a collection of nodes such that every node in the collection is connected to every other node in the collection. So for our purposes, we're talking about a collection of states, each of which borders all the rest."
   ]
  },
  {
   "cell_type": "code",
   "execution_count": null,
   "metadata": {
    "scrolled": true
   },
   "outputs": [],
   "source": [
    "# The `number_of_cliques()` function returns the number of cliques\n",
    "# for each state.\n",
    "\n",
    "nx.clique.number_of_cliques(new_borders)"
   ]
  },
  {
   "cell_type": "code",
   "execution_count": null,
   "metadata": {
    "scrolled": true
   },
   "outputs": [],
   "source": [
    "# The `node_clique_number()` function returns the number of states in \n",
    "# a given state's largest clique.\n",
    "\n",
    "nx.node_clique_number(new_borders)"
   ]
  },
  {
   "cell_type": "markdown",
   "metadata": {},
   "source": [
    "The number is 3 for every state except Maine. So there are no \"quadri-state\" areas (we're not counting the Four Corners), but there are presumably lots of tri-state areas. As a final question, let's explore how many tri-state areas there are."
   ]
  },
  {
   "cell_type": "code",
   "execution_count": null,
   "metadata": {},
   "outputs": [],
   "source": [
    "len([clique for clique in list(nx.clique.enumerate_all_cliques(new_borders))\\\n",
    "     if len(clique) == 3])"
   ]
  },
  {
   "cell_type": "markdown",
   "metadata": {},
   "source": [
    "That's 56 tri-state areas!"
   ]
  },
  {
   "cell_type": "markdown",
   "metadata": {},
   "source": [
    "## Mapping with `plotly`"
   ]
  },
  {
   "cell_type": "code",
   "execution_count": null,
   "metadata": {},
   "outputs": [],
   "source": [
    "us = px.choropleth(locations=['AR', 'CO', 'GA', 'ID', 'IA', 'KS',\n",
    "                             'KY', 'MI', 'MS', 'MO', 'MT', 'NE',\n",
    "                             'NV', 'NM', 'NY', 'NC', 'OK', 'OR',\n",
    "                             'SD', 'VT', 'VA', 'WI', 'WY'],\n",
    "                  locationmode='USA-states', scope='usa',\n",
    "                  color=[1, 1, 1, 2, 1, 1, 2, 1, 1, 2, 1, 3,\n",
    "                        2, 1, 1, 1, 2, 1, 2, 1, 1, 2, 1],\n",
    "                  title='Borders Without Interstates')\n",
    "us.show()"
   ]
  },
  {
   "cell_type": "code",
   "execution_count": null,
   "metadata": {},
   "outputs": [],
   "source": [
    "df = pd.DataFrame(new_borders, columns=['state'])"
   ]
  },
  {
   "cell_type": "code",
   "execution_count": null,
   "metadata": {},
   "outputs": [],
   "source": [
    "def state_to_bord(state):\n",
    "    return len(list(new_borders.neighbors(state)))"
   ]
  },
  {
   "cell_type": "code",
   "execution_count": null,
   "metadata": {},
   "outputs": [],
   "source": [
    "df['num_borders'] = df['state'].map(state_to_bord)"
   ]
  },
  {
   "cell_type": "code",
   "execution_count": null,
   "metadata": {},
   "outputs": [],
   "source": [
    "df.head()"
   ]
  },
  {
   "cell_type": "code",
   "execution_count": null,
   "metadata": {
    "scrolled": true
   },
   "outputs": [],
   "source": [
    "us2 = px.choropleth(locations=df['state'],\n",
    "                   locationmode='USA-states',\n",
    "                   scope='usa',\n",
    "                    color=df['num_borders'],\n",
    "                   title='Borders by State')\n",
    "\n",
    "us2.show()"
   ]
  },
  {
   "cell_type": "code",
   "execution_count": null,
   "metadata": {},
   "outputs": [],
   "source": [
    "df['progress'] = [0, 0, 1, 0, 3, 0, 0, 0, 2, 2, 0, 0,\n",
    "                 3, 1, 1, 0, 1, 0, 1, 0, 1, 2, 1, 1,\n",
    "                 3, 1, 1, 0, 1, 3, 2, 1, 1, 1, 0, 2,\n",
    "                 0, 1, 4, 3, 0, 1, 1, 2, 0, 0, 1, 2]"
   ]
  },
  {
   "cell_type": "code",
   "execution_count": null,
   "metadata": {},
   "outputs": [],
   "source": [
    "us3 = px.choropleth(locations=df['state'],\n",
    "                   locationmode='USA-states',\n",
    "                   scope='usa',\n",
    "                    color=df['progress'],\n",
    "                   title='Borders Still to Cross')\n",
    "\n",
    "us3.show()"
   ]
  },
  {
   "cell_type": "code",
   "execution_count": null,
   "metadata": {},
   "outputs": [],
   "source": []
  }
 ],
 "metadata": {
  "kernelspec": {
   "display_name": "prt",
   "language": "python",
   "name": "prt"
  },
  "language_info": {
   "codemirror_mode": {
    "name": "ipython",
    "version": 3
   },
   "file_extension": ".py",
   "mimetype": "text/x-python",
   "name": "python",
   "nbconvert_exporter": "python",
   "pygments_lexer": "ipython3",
   "version": "3.6.10"
  }
 },
 "nbformat": 4,
 "nbformat_minor": 4
}
